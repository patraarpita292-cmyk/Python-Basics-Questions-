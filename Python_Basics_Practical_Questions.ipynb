{
  "nbformat": 4,
  "nbformat_minor": 0,
  "metadata": {
    "colab": {
      "provenance": []
    },
    "kernelspec": {
      "name": "python3",
      "display_name": "Python 3"
    },
    "language_info": {
      "name": "python"
    }
  },
  "cells": [
    {
      "cell_type": "markdown",
      "source": [
        "1.   Write a Python program to print \"Hello, World!\"\n",
        "\n"
      ],
      "metadata": {
        "id": "IT1gz8L-jbBu"
      }
    },
    {
      "cell_type": "code",
      "execution_count": 1,
      "metadata": {
        "colab": {
          "base_uri": "https://localhost:8080/"
        },
        "id": "T5Y4mBUVh3Qz",
        "outputId": "0d6a6c32-6f06-4b2c-c003-3597f1dfae62"
      },
      "outputs": [
        {
          "output_type": "stream",
          "name": "stdout",
          "text": [
            "Hello, World!\n"
          ]
        }
      ],
      "source": [
        "print(\"Hello, World!\")"
      ]
    },
    {
      "cell_type": "markdown",
      "source": [
        "2. Write a Python program that displays your name and age."
      ],
      "metadata": {
        "id": "gsU8imDulTnw"
      }
    },
    {
      "cell_type": "code",
      "source": [
        "name = \"Arpita\"\n",
        "age = 21\n",
        "\n",
        "print(f\"Name: {name}, Age: {age}\")"
      ],
      "metadata": {
        "colab": {
          "base_uri": "https://localhost:8080/"
        },
        "id": "ohVVNPArl0W8",
        "outputId": "7d817e98-8f1e-4186-fba6-3d65d6c96b9d"
      },
      "execution_count": 4,
      "outputs": [
        {
          "output_type": "stream",
          "name": "stdout",
          "text": [
            "Name: Arpita, Age: 21\n"
          ]
        }
      ]
    },
    {
      "cell_type": "markdown",
      "source": [
        "3. Write code to print all the pre-defined keywords in Python using the keyword library."
      ],
      "metadata": {
        "id": "0yXW6H_kmN-n"
      }
    },
    {
      "cell_type": "code",
      "source": [
        "import keyword\n",
        "\n",
        "print(\"Python keywords are:\")\n",
        "print(keyword.kwlist)"
      ],
      "metadata": {
        "colab": {
          "base_uri": "https://localhost:8080/"
        },
        "id": "cXXoNtvXmJnD",
        "outputId": "8ca0bb4b-446f-478e-ae7e-fcd2fe15631e"
      },
      "execution_count": 5,
      "outputs": [
        {
          "output_type": "stream",
          "name": "stdout",
          "text": [
            "Python keywords are:\n",
            "['False', 'None', 'True', 'and', 'as', 'assert', 'async', 'await', 'break', 'class', 'continue', 'def', 'del', 'elif', 'else', 'except', 'finally', 'for', 'from', 'global', 'if', 'import', 'in', 'is', 'lambda', 'nonlocal', 'not', 'or', 'pass', 'raise', 'return', 'try', 'while', 'with', 'yield']\n"
          ]
        }
      ]
    },
    {
      "cell_type": "markdown",
      "source": [
        "4. Write a program that checks if a given word is a Python keyword."
      ],
      "metadata": {
        "id": "JCqneVjsmdhX"
      }
    },
    {
      "cell_type": "code",
      "source": [
        "import keyword\n",
        "\n",
        "word = input(\"Enter a word to check if it is a keyword: \")\n",
        "\n",
        "if keyword.iskeyword(word):\n",
        "  print(f\"'{word}' is a Python keyword.\")\n",
        "else:\n",
        "  print(f\"'{word}' is not a Python keyword.\")"
      ],
      "metadata": {
        "colab": {
          "base_uri": "https://localhost:8080/"
        },
        "id": "7OheGsXqma4Q",
        "outputId": "8d368bd4-0639-4b69-a91a-1bd8276e67e3"
      },
      "execution_count": 6,
      "outputs": [
        {
          "output_type": "stream",
          "name": "stdout",
          "text": [
            "Enter a word to check if it is a keyword: False\n",
            "'False' is a Python keyword.\n"
          ]
        }
      ]
    },
    {
      "cell_type": "markdown",
      "source": [
        "5.  Create a list and tuple in Python, and demonstrate how attempting to change an element works differently for each."
      ],
      "metadata": {
        "id": "1PsJsVNBnHqD"
      }
    },
    {
      "cell_type": "code",
      "source": [
        "# Create a list\n",
        "my_list = [10, 20, 30, 40]\n",
        "print(f\"Original list: {my_list}\")\n",
        "\n",
        "# Change the first element of the list\n",
        "my_list[0] = 99\n",
        "print(f\"Modified list: {my_list}\") # This works!\n",
        "\n",
        "# Create a tuple\n",
        "my_tuple = (10, 20, 30, 40)\n",
        "print(f\"\\nOriginal tuple: {my_tuple}\")\n",
        "\n",
        "# Attempt to change the first element of the tuple\n",
        "try:\n",
        "  my_tuple[0] = 99\n",
        "except TypeError as e:\n",
        "  print(f\"Could not modify tuple: {e}\") # This will raise a TypeError"
      ],
      "metadata": {
        "colab": {
          "base_uri": "https://localhost:8080/"
        },
        "id": "EhBS0eTPmpMH",
        "outputId": "a6f6c9be-e635-4130-abd0-476665e7f7a1"
      },
      "execution_count": 7,
      "outputs": [
        {
          "output_type": "stream",
          "name": "stdout",
          "text": [
            "Original list: [10, 20, 30, 40]\n",
            "Modified list: [99, 20, 30, 40]\n",
            "\n",
            "Original tuple: (10, 20, 30, 40)\n",
            "Could not modify tuple: 'tuple' object does not support item assignment\n"
          ]
        }
      ]
    },
    {
      "cell_type": "markdown",
      "source": [
        "6.  Write a function to demonstrate the behavior of mutable and immutable arguments."
      ],
      "metadata": {
        "id": "LW_MWoCMnrDj"
      }
    },
    {
      "cell_type": "code",
      "source": [
        "def modify_data(mutable_arg, immutable_arg):\n",
        "  \"\"\"\n",
        "  This function attempts to modify both a mutable (list)\n",
        "  and an immutable (string) argument.\n",
        "  \"\"\"\n",
        "  print(\"\\n--- Inside Function ---\")\n",
        "  mutable_arg.append(4) # This change will affect the original list\n",
        "  immutable_arg += \" World\" # This creates a new string, does not change the original\n",
        "  print(f\"Modified list inside function: {mutable_arg}\")\n",
        "  print(f\"Modified string inside function: {immutable_arg}\")\n",
        "  print(\"--- Exiting Function ---\\n\")\n",
        "\n",
        "# Initialize data\n",
        "my_list_data = [1, 2, 3]\n",
        "my_string_data = \"Hello\"\n",
        "\n",
        "print(f\"Original list before function call: {my_list_data}\")\n",
        "print(f\"Original string before function call: {my_string_data}\")\n",
        "\n",
        "# Call the function\n",
        "modify_data(my_list_data, my_string_data)\n",
        "\n",
        "print(f\"Original list after function call: {my_list_data}\") # The list is changed\n",
        "print(f\"Original string after function call: {my_string_data}\") # The string is unchanged"
      ],
      "metadata": {
        "colab": {
          "base_uri": "https://localhost:8080/"
        },
        "id": "0krnLvrjnmzC",
        "outputId": "1b742e28-9c91-4234-ec85-a037fda07b89"
      },
      "execution_count": 8,
      "outputs": [
        {
          "output_type": "stream",
          "name": "stdout",
          "text": [
            "Original list before function call: [1, 2, 3]\n",
            "Original string before function call: Hello\n",
            "\n",
            "--- Inside Function ---\n",
            "Modified list inside function: [1, 2, 3, 4]\n",
            "Modified string inside function: Hello World\n",
            "--- Exiting Function ---\n",
            "\n",
            "Original list after function call: [1, 2, 3, 4]\n",
            "Original string after function call: Hello\n"
          ]
        }
      ]
    },
    {
      "cell_type": "markdown",
      "source": [
        "7.  Write a program that performs basic arithmetic operations on two user-input numbers."
      ],
      "metadata": {
        "id": "r5LNVidYoQ-3"
      }
    },
    {
      "cell_type": "code",
      "source": [
        "# Get input from the user\n",
        "num1 = float(input(\"Enter the first number: \"))\n",
        "num2 = float(input(\"Enter the second number: \"))\n",
        "\n",
        "# Perform calculations\n",
        "addition = num1 + num2\n",
        "subtraction = num1 - num2\n",
        "multiplication = num1 * num2\n",
        "division = num1 / num2 if num2 != 0 else \"Cannot divide by zero\"\n",
        "\n",
        "# Print results\n",
        "print(f\"\\nAddition: {num1} + {num2} = {addition}\")\n",
        "print(f\"Subtraction: {num1} - {num2} = {subtraction}\")\n",
        "print(f\"Multiplication: {num1} * {num2} = {multiplication}\")\n",
        "print(f\"Division: {num1} / {num2} = {division}\")"
      ],
      "metadata": {
        "colab": {
          "base_uri": "https://localhost:8080/"
        },
        "id": "Mhz2zEz6ollx",
        "outputId": "10772e48-0eb0-4018-9734-9541d09361ea"
      },
      "execution_count": 10,
      "outputs": [
        {
          "output_type": "stream",
          "name": "stdout",
          "text": [
            "Enter the first number: 4.8\n",
            "Enter the second number: 3.7\n",
            "\n",
            "Addition: 4.8 + 3.7 = 8.5\n",
            "Subtraction: 4.8 - 3.7 = 1.0999999999999996\n",
            "Multiplication: 4.8 * 3.7 = 17.76\n",
            "Division: 4.8 / 3.7 = 1.2972972972972971\n"
          ]
        }
      ]
    },
    {
      "cell_type": "markdown",
      "source": [
        "8.  Write a program to demonstrate the use of logical operators."
      ],
      "metadata": {
        "id": "5surAvv0pH_F"
      }
    },
    {
      "cell_type": "code",
      "source": [
        "a = True\n",
        "b = False\n",
        "\n",
        "# and: Returns True if both statements are true\n",
        "print(f\"a and b is: {a and b}\")  # False\n",
        "\n",
        "# or: Returns True if one of the statements is true\n",
        "print(f\"a or b is: {a or b}\")   # True\n",
        "\n",
        "# not: Reverses the result, returns False if the result is true\n",
        "print(f\"not a is: {not a}\")      # False\n",
        "print(f\"not b is: {not b}\")      # True"
      ],
      "metadata": {
        "colab": {
          "base_uri": "https://localhost:8080/"
        },
        "id": "K1iJEif6ouct",
        "outputId": "ad8bf841-fb42-4b42-d744-c90cf45c967c"
      },
      "execution_count": 11,
      "outputs": [
        {
          "output_type": "stream",
          "name": "stdout",
          "text": [
            "a and b is: False\n",
            "a or b is: True\n",
            "not a is: False\n",
            "not b is: True\n"
          ]
        }
      ]
    },
    {
      "cell_type": "markdown",
      "source": [
        "9.  Write a Python program to convert user input from string to integer, float, and boolean types."
      ],
      "metadata": {
        "id": "ghvl7umPpTXd"
      }
    },
    {
      "cell_type": "code",
      "source": [
        "user_input = input(\"Enter a value (e.g., '123'): \")\n",
        "\n",
        "# Convert to integer\n",
        "try:\n",
        "  int_value = int(user_input)\n",
        "  print(f\"\\nAs integer: {int_value} (Type: {type(int_value)})\")\n",
        "except ValueError:\n",
        "  print(\"\\nCould not convert to integer.\")\n",
        "\n",
        "# Convert to float\n",
        "try:\n",
        "  float_value = float(user_input)\n",
        "  print(f\"As float: {float_value} (Type: {type(float_value)})\")\n",
        "except ValueError:\n",
        "  print(\"Could not convert to float.\")\n",
        "\n",
        "# Convert to boolean\n",
        "# Any non-empty string is True. An empty string is False.\n",
        "bool_value = bool(user_input)\n",
        "print(f\"As boolean: {bool_value} (Type: {type(bool_value)})\")"
      ],
      "metadata": {
        "colab": {
          "base_uri": "https://localhost:8080/"
        },
        "id": "6wkZa01kpSPj",
        "outputId": "5f9641e8-b7a8-4991-d74e-598fd2617e96"
      },
      "execution_count": 12,
      "outputs": [
        {
          "output_type": "stream",
          "name": "stdout",
          "text": [
            "Enter a value (e.g., '123'): 123\n",
            "\n",
            "As integer: 123 (Type: <class 'int'>)\n",
            "As float: 123.0 (Type: <class 'float'>)\n",
            "As boolean: True (Type: <class 'bool'>)\n"
          ]
        }
      ]
    },
    {
      "cell_type": "markdown",
      "source": [
        "10. Write code to demonstrate type casting with list elements."
      ],
      "metadata": {
        "id": "0MNwvqLmpuWO"
      }
    },
    {
      "cell_type": "code",
      "source": [
        "string_numbers = ['1', '2', '3', '4', '5']\n",
        "print(f\"Original list of strings: {string_numbers}\")\n",
        "\n",
        "# Use a list comprehension for concise type casting\n",
        "integer_numbers = [int(num) for num in string_numbers]\n",
        "print(f\"Converted list of integers: {integer_numbers}\")"
      ],
      "metadata": {
        "colab": {
          "base_uri": "https://localhost:8080/"
        },
        "id": "fEydIJDLpj3U",
        "outputId": "7cbb6721-e129-41a8-ca27-d4bccee9ca92"
      },
      "execution_count": 13,
      "outputs": [
        {
          "output_type": "stream",
          "name": "stdout",
          "text": [
            "Original list of strings: ['1', '2', '3', '4', '5']\n",
            "Converted list of integers: [1, 2, 3, 4, 5]\n"
          ]
        }
      ]
    },
    {
      "cell_type": "markdown",
      "source": [
        "11. Write a program that checks if a number is positive, negative, or zero.\n",
        "\n"
      ],
      "metadata": {
        "id": "Dkpy9YEbqDYW"
      }
    },
    {
      "cell_type": "code",
      "source": [
        "num = float(input(\"Enter a number: \"))\n",
        "\n",
        "if num > 0:\n",
        "  print(\"The number is positive.\")\n",
        "elif num < 0:\n",
        "  print(\"The number is negative.\")\n",
        "else:\n",
        "  print(\"The number is zero.\")"
      ],
      "metadata": {
        "colab": {
          "base_uri": "https://localhost:8080/"
        },
        "id": "MVXfRxllp9-4",
        "outputId": "2d90583d-8a9b-4d48-8800-91fd197abab6"
      },
      "execution_count": 14,
      "outputs": [
        {
          "output_type": "stream",
          "name": "stdout",
          "text": [
            "Enter a number: 13\n",
            "The number is positive.\n"
          ]
        }
      ]
    },
    {
      "cell_type": "markdown",
      "source": [
        "12. Write a for loop to print numbers from 1 to 10."
      ],
      "metadata": {
        "id": "HGLfvS6tqP96"
      }
    },
    {
      "cell_type": "code",
      "source": [
        "for i in range(1, 11):\n",
        "  print(i)"
      ],
      "metadata": {
        "colab": {
          "base_uri": "https://localhost:8080/"
        },
        "id": "0BmnMyM2qMqA",
        "outputId": "6bb7a5d9-fedf-406a-e715-88bb48ebb3ae"
      },
      "execution_count": 15,
      "outputs": [
        {
          "output_type": "stream",
          "name": "stdout",
          "text": [
            "1\n",
            "2\n",
            "3\n",
            "4\n",
            "5\n",
            "6\n",
            "7\n",
            "8\n",
            "9\n",
            "10\n"
          ]
        }
      ]
    },
    {
      "cell_type": "markdown",
      "source": [
        "13.  Write a Python program to find the sum of all even numbers between 1 and 50."
      ],
      "metadata": {
        "id": "dUj46I-eqaqD"
      }
    },
    {
      "cell_type": "code",
      "source": [
        "sum_of_evens = 0\n",
        "\n",
        "for number in range(1, 51):\n",
        "  if number % 2 == 0:\n",
        "    sum_of_evens += number\n",
        "\n",
        "print(f\"The sum of all even numbers between 1 and 50 is: {sum_of_evens}\")"
      ],
      "metadata": {
        "colab": {
          "base_uri": "https://localhost:8080/"
        },
        "id": "mhotQWGqqZeW",
        "outputId": "934ad875-015d-4023-8962-71d326b74a39"
      },
      "execution_count": 16,
      "outputs": [
        {
          "output_type": "stream",
          "name": "stdout",
          "text": [
            "The sum of all even numbers between 1 and 50 is: 650\n"
          ]
        }
      ]
    },
    {
      "cell_type": "markdown",
      "source": [
        "14.  Write a program to reverse a string using a while loop."
      ],
      "metadata": {
        "id": "zQ5HF8HUqoeZ"
      }
    },
    {
      "cell_type": "code",
      "source": [
        "original_string = input(\"Enter a string to reverse: \")\n",
        "reversed_string = \"\"\n",
        "index = len(original_string) - 1 # Start from the last character\n",
        "\n",
        "while index >= 0:\n",
        "  reversed_string += original_string[index]\n",
        "  index -= 1 # Move to the previous character\n",
        "\n",
        "print(f\"Reversed string: {reversed_string}\")"
      ],
      "metadata": {
        "colab": {
          "base_uri": "https://localhost:8080/"
        },
        "id": "IMluFXZvqm6K",
        "outputId": "c695b6c2-349a-4153-ef9e-ccb9b2e98218"
      },
      "execution_count": 17,
      "outputs": [
        {
          "output_type": "stream",
          "name": "stdout",
          "text": [
            "Enter a string to reverse: baby\n",
            "Reversed string: ybab\n"
          ]
        }
      ]
    },
    {
      "cell_type": "markdown",
      "source": [
        "15. Write a Python program to calculate the factorial of a number provided by the user using a while loop.\n",
        "\n"
      ],
      "metadata": {
        "id": "7ix8P0-Nq4E1"
      }
    },
    {
      "cell_type": "code",
      "source": [
        "num = int(input(\"Enter a non-negative number to calculate its factorial: \"))\n",
        "factorial = 1\n",
        "i = 1\n",
        "\n",
        "if num < 0:\n",
        "  print(\"Factorial is not defined for negative numbers.\")\n",
        "elif num == 0:\n",
        "  print(\"The factorial of 0 is 1.\")\n",
        "else:\n",
        "  while i <= num:\n",
        "    factorial *= i\n",
        "    i += 1\n",
        "  print(f\"The factorial of {num} is {factorial}.\")"
      ],
      "metadata": {
        "colab": {
          "base_uri": "https://localhost:8080/"
        },
        "id": "9Sy5awN_qyUm",
        "outputId": "882764f2-e5f3-43ca-c278-36d62ed61c93"
      },
      "execution_count": 18,
      "outputs": [
        {
          "output_type": "stream",
          "name": "stdout",
          "text": [
            "Enter a non-negative number to calculate its factorial: 6\n",
            "The factorial of 6 is 720.\n"
          ]
        }
      ]
    }
  ]
}