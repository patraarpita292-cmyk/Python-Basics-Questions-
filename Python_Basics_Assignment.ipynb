{
  "nbformat": 4,
  "nbformat_minor": 0,
  "metadata": {
    "colab": {
      "provenance": []
    },
    "kernelspec": {
      "name": "python3",
      "display_name": "Python 3"
    },
    "language_info": {
      "name": "python"
    }
  },
  "cells": [
    {
      "cell_type": "markdown",
      "source": [
        "### **PYTHON BASICS QUESTIONS**\n",
        "\n",
        "\n",
        "\n",
        "\n",
        "1.  What is Python, and why is it popular?\n",
        "\n",
        "    ans: Python is a high-level, interpreted programming language known for its clear syntax and readability. Its popularity stems from several factors:\n",
        "\n",
        "*   **Simplicity:** Its English-like syntax makes it easy for beginners to learn and use.\n",
        "\n",
        "*   **Versatility:** It is a general-purpose language used in web development, data science, artificial intelligence, automation, and more.\n",
        "\n",
        "\n",
        "*    **Extensive Libraries:** Python has a vast collection of libraries and frameworks (like NumPy, Pandas) that simplify complex tasks.\n",
        "*   **Large Community:** A large and active community provides excellent support, documentation, and a wealth of third-party packages.\n",
        "\n",
        "*   **Portability:** Python code can run on various operating systems like Windows, macOS, and Linux without modification.\n",
        "\n",
        "\n",
        "\n",
        "\n",
        "\n",
        "\n",
        "\n",
        "\n",
        "\n",
        "\n",
        "\n",
        "\n"
      ],
      "metadata": {
        "id": "LHLhZr11w1PF"
      }
    },
    {
      "cell_type": "markdown",
      "source": [
        "\n",
        "\n",
        "2.   What is an interpreter in Python?\n",
        "     \n",
        "     ans: An interpreter in Python is a program that executes Python code directly, one line at a time. It reads a source code statement, translates it into machine code, and executes it immediately before moving to the next statement. This is different from a compiler, which translates the entire program into machine code before execution. This interpretive nature makes debugging easier and allows for interactive programming.\n",
        "   \n",
        "\n"
      ],
      "metadata": {
        "id": "8Bcx40ZZGlVQ"
      }
    },
    {
      "cell_type": "markdown",
      "source": [
        "\n",
        "\n",
        "3.    What are pre-defined keywords in Python?\n",
        "      \n",
        "      ans: Pre-defined keywords in Python are reserved words that have special meanings and functionalities. They are part of the core syntax of the language and cannot be used for naming variables, functions, or any other identifiers. Examples include `if`, `else`, `for`, `while`, `def`, `True`, `False`, and `None`.\n",
        "\n"
      ],
      "metadata": {
        "id": "QTRctDcKHGai"
      }
    },
    {
      "cell_type": "markdown",
      "source": [
        "\n",
        "\n",
        "4.   Can keywords be used as variable names?   \n",
        "    \n",
        "     ans: No, keywords cannot be used as variable names. Since they are reserved words with specific syntactic purposes, using them as identifiers would cause a `SyntaxError`.\n",
        "\n",
        "\n",
        "\n"
      ],
      "metadata": {
        "id": "keE62sFlHAI7"
      }
    },
    {
      "cell_type": "markdown",
      "source": [
        "\n",
        "\n",
        "5.   What is mutability in Python?\n",
        "    \n",
        "     ans: Mutability refers to the ability of an object to be changed after it has been created.\n",
        "    \n",
        "*   Mutable objects can be modified. For example, you can add, remove, or change elements in a list.\n",
        "*   Immutable objects cannot be modified. If you need to change an immutable object, you must create a new object with the new value. Examples include integers, strings, and tuples.\n",
        "\n",
        "\n",
        "\n",
        "\n",
        "\n"
      ],
      "metadata": {
        "id": "FUlr2M5JIdlv"
      }
    },
    {
      "cell_type": "markdown",
      "source": [
        "\n",
        "\n",
        "6.   Why are lists mutable, but tuples are immutable?\n",
        "\n",
        "     ans: The distinction between lists and tuples is a fundamental design choice in Python:\n",
        "\n",
        "\n",
        "*   **Lists** are designed to be dynamic, homogeneous sequences whose contents can change over time. Their mutability allows for operations like appending, removing, or modifying elements in place, which is useful when the collection of items needs to be altered during the program's execution.\n",
        "*   **Tuples** are designed to be fixed, heterogeneous collections of data. Their immutability ensures that the data they contain remains constant throughout the program. This makes them reliable for use as dictionary keys or in sets, where the elements must be unchangeable (hashable).\n",
        "\n",
        "\n",
        "\n"
      ],
      "metadata": {
        "id": "fHggsEQrLIYN"
      }
    },
    {
      "cell_type": "markdown",
      "source": [
        "\n",
        "\n",
        "7.   What is the difference between “==” and “is” operators in Python?\n",
        "\n",
        "     ans:  \n",
        "*   The `==` operator is used for equality comparison. It checks if the values of the two operands are equal.\n",
        "*   The `is` operator is used for identity comparison. It checks if two operands refer to the exact same object in memory.\n",
        "\n",
        "     Example:\n",
        "\n",
        "\n",
        "\n"
      ],
      "metadata": {
        "id": "PG0EM56KML1n"
      }
    },
    {
      "cell_type": "code",
      "source": [
        "a = [1, 2, 3]\n",
        "b = [1, 2, 3]\n",
        "c = a\n",
        "\n",
        "print(a == b)  # True, because their values are the same\n",
        "print(a is b)  # False, because they are two different objects in memory\n",
        "print(a is c)  # True, because c refers to the same object as a"
      ],
      "metadata": {
        "colab": {
          "base_uri": "https://localhost:8080/"
        },
        "id": "cEbbPi_MNjbT",
        "outputId": "f800b191-a75a-4041-a5b4-d6afef4ef630"
      },
      "execution_count": null,
      "outputs": [
        {
          "output_type": "stream",
          "name": "stdout",
          "text": [
            "True\n",
            "False\n",
            "True\n"
          ]
        }
      ]
    },
    {
      "cell_type": "markdown",
      "source": [
        "\n",
        "\n",
        "8.   What are logical operators in Python?\n",
        "\n",
        "     ans: Logical operators in Python are used to combine conditional statements. There are three logical operators:\n",
        "\n",
        "\n",
        "*   `and`: Returns `True` if both operands are true.\n",
        "*    `or`: Returns `True` if at least one of the operands is true.\n",
        "*   `not`: Reverses the logical state, returning `True` if the operand is false, and `False` if it is true.\n",
        "\n",
        "\n",
        "\n",
        "\n",
        "\n",
        "\n"
      ],
      "metadata": {
        "id": "Tzk0OW8bMzem"
      }
    },
    {
      "cell_type": "markdown",
      "source": [
        "\n",
        "\n",
        "9.   What is type casting in Python?\n",
        "\n",
        "     ans: Type casting (or type conversion) is the process of converting a variable from one data type to another. This is done using constructor functions like `int()`, `float()`, `str()`, `list()`, etc. For example, you can convert a string containing a number into an actual integer.\n",
        "\n"
      ],
      "metadata": {
        "id": "7IdWMH4HQN8t"
      }
    },
    {
      "cell_type": "markdown",
      "source": [
        "\n",
        "\n",
        "10.   What is the difference between implicit and explicit type casting?\n",
        "\n",
        "      ans:\n",
        "\n",
        "*   **Implicit Type Casting:** This is an automatic conversion performed by the Python interpreter. It usually happens when you perform an operation involving two different data types, where Python converts the \"smaller\" data type to the \"larger\" one to avoid data loss. For example, adding an integer and a float results in a float.\n",
        "\n",
        "\n",
        "\n"
      ],
      "metadata": {
        "id": "AdK8CMGQQqqY"
      }
    },
    {
      "cell_type": "code",
      "source": [
        "result = 5 + 2.5  # result is 7.5 (a float)"
      ],
      "metadata": {
        "id": "Gk1nS-YxRaL7"
      },
      "execution_count": null,
      "outputs": []
    },
    {
      "cell_type": "markdown",
      "source": [
        "\n",
        "\n",
        "*  **Explicit Type Casting:** This is a manual conversion performed by the programmer using built-in functions like `int()`, `str()`, or `float().` This is used when the programmer needs to explicitly specify the desired data type.\n",
        "\n"
      ],
      "metadata": {
        "id": "ry1WuEOIToEF"
      }
    },
    {
      "cell_type": "code",
      "source": [
        "num_str = \"10\"\n",
        "num_int = int(num_str) # Manually converting string to integer"
      ],
      "metadata": {
        "id": "uRG-gqzdUKIG"
      },
      "execution_count": null,
      "outputs": []
    },
    {
      "cell_type": "markdown",
      "source": [
        "\n",
        "\n",
        "11.    What is the purpose of conditional statements in Python?\n",
        "\n",
        "       ans: The purpose of conditional statements (`if`, `elif`, `else`) is to control the flow of a program's execution. They allow the program to make decisions and execute specific blocks of code based on whether certain conditions are true or false. This enables dynamic behavior where the program can react differently to different inputs or states.\n",
        "\n"
      ],
      "metadata": {
        "id": "0qvjlDyBUV2e"
      }
    },
    {
      "cell_type": "markdown",
      "source": [
        "\n",
        "\n",
        "12.   How does the elif statement work?\n",
        "\n",
        "      ans: The `elif` (else if) statement allows you to check for multiple conditions. It is used after an if statement and before an `else` statement.\n",
        "\n",
        "*   First, the `if` condition is checked.\n",
        "*   If the `if` condition is false, Python moves to the `elif` condition and checks it.\n",
        "*   If the `elif` condition is true, its corresponding code block is executed, and the rest of the `if-elif-else` chain is skipped.\n",
        "*   If the `elif` condition is also false, Python checks the next `elif` statement in the chain, or executes the `else` block if one exists.\n",
        "\n",
        "\n",
        "\n",
        "\n",
        "\n",
        "\n",
        "\n",
        "\n"
      ],
      "metadata": {
        "id": "aFmc_2c7V6p7"
      }
    },
    {
      "cell_type": "markdown",
      "source": [
        "\n",
        "\n",
        "13.   What is the difference between for and while loops?\n",
        "\n",
        "      ans:\n",
        "*   `for` **loop:** A `for` loop is used for iterating over a sequence (like a list, tuple, dictionary, set, or string) or other iterable objects. It is best used when you know the number of iterations beforehand.\n",
        "*   `while` **loop:** A `while` loop is used to execute a block of code as long as a specified condition is true. It is best used when the number of iterations is unknown and depends on a condition being met during execution.\n",
        "\n",
        "\n",
        "\n"
      ],
      "metadata": {
        "id": "CiYUx_sdWx5d"
      }
    },
    {
      "cell_type": "markdown",
      "source": [
        "\n",
        "\n",
        "14.   Describe a scenario where a while loop is more suitable than a for loop.\n",
        "\n",
        "      ans: A `while` loop is more suitable than a `for` loop when the number of iterations is not known in advance. A classic example is a program that requires user input until the user provides a specific value to quit.\n",
        "\n",
        "      For example, a program that keeps asking for a password until the correct one is entered:\n",
        "\n"
      ],
      "metadata": {
        "id": "_CNL_LF1cGQG"
      }
    },
    {
      "cell_type": "code",
      "source": [
        "correct_password = \"password123\"\n",
        "user_input = \"\"\n",
        "\n",
        "while user_input != correct_password:\n",
        "    user_input = input(\"Enter the password: \")\n",
        "    if user_input != correct_password:\n",
        "        print(\"Incorrect password. Please try again.\")\n",
        "\n",
        "print(\"Access granted.\")"
      ],
      "metadata": {
        "id": "ID2gmLhoc88T"
      },
      "execution_count": null,
      "outputs": []
    },
    {
      "cell_type": "markdown",
      "source": [
        "In this scenario, we don't know how many times the user will enter the wrong password, so a while loop is the perfect choice."
      ],
      "metadata": {
        "id": "pb9jlEOidS1l"
      }
    }
  ]
}